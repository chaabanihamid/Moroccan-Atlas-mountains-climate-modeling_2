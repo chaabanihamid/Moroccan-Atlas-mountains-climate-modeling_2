{
 "cells": [
  {
   "cell_type": "code",
   "execution_count": 1,
   "id": "eb44eceb",
   "metadata": {},
   "outputs": [],
   "source": [
    "import numpy as np \n",
    "import pandas as pd \n",
    "import netCDF4 as nc \n",
    "from netCDF4 import Dataset \n",
    "import matplotlib.pyplot as plt \n",
    "import xarray as xr\n",
    "import datetime  \n",
    "from os import listdir\n",
    "import os"
   ]
  },
  {
   "cell_type": "code",
   "execution_count": 2,
   "id": "1529a926",
   "metadata": {},
   "outputs": [],
   "source": [
    "# ## Set variables\n",
    "# Setting latitudes and longitudes boundaries\n",
    "latlim, lonlim = slice(10, 34.5), slice(-10,-2)    \n",
    "\n",
    "# Month labels, and we difine also a months_labels_without_july that will be served for preparing a dataset which has a \n",
    "# problem with july month. \n",
    "months_labels = [\"01\", \"02\", \"03\", \"04\", \"05\", \"06\", \"07\", \"08\", \"09\", \"10\", \"11\", \"12\"]  \n",
    "months_labels_without_july = [\"01\", \"02\", \"03\", \"04\", \"05\", \"06\", \"08\", \"09\", \"10\", \"11\", \"12\"]\n",
    "\n",
    "# Setting threshold that will be used for number of days with snow deduced from snow cover fraction, and it will be used \n",
    "# also to filter small values of scf (Snow Cover Fraction) less than 1% while computing monthly value of scf.  \n",
    "prod = 'ERA5'\n",
    "par = 'sd'\n",
    "\n",
    "# Path of input data\n",
    "path_ERA5_LAND = '/home/hchaabani/Data/Snow/SNW/Reanalysis/ERA-LAND/raw_data'\n",
    "path_ERA5 = '/home/hchaabani/Data/Snow/SNW/Reanalysis/ERA5/raw_data'\n",
    "\n",
    "input_paths = {'ERA5':path_ERA5, 'ERA_LAND': path_ERA5_LAND}\n",
    "\n",
    "data = xr.open_mfdataset(input_paths[prod] +'/*.nc').load()\n",
    "#data = data.sel(time=slice('1982-01-01', '1990-12-31'))\n",
    "data = data.rename({'longitude':'lon','latitude':'lat','sd':'sd'})\n",
    "    \n",
    "# data.coords['lon'] = ('lon', (data.lon.values + 180)%360 - 180)"
   ]
  },
  {
   "cell_type": "code",
   "execution_count": 3,
   "id": "6b3b5490",
   "metadata": {},
   "outputs": [
    {
     "name": "stdout",
     "output_type": "stream",
     "text": [
      "Done for threshold: 0.002\n"
     ]
    }
   ],
   "source": [
    "for threshold in ['0.002']: #'0.03','0.05','0.07','0.09','0.11']:\n",
    "    \n",
    "    # Directory path served to store data\n",
    "    output_dir_era_land = '/home/hchaabani/Data/Snow/SNW/Reanalysis/ERA-LAND/modified_data/monthly_values/monthly_values_threshold_'+threshold\n",
    "    output_dir_era5 = '/home/hchaabani/Data/Snow/SNW/Reanalysis/ERA5/modified_data/monthly_values/monthly_values_threshold_'+threshold\n",
    "    output_paths = {'ERA5':output_dir_era5, 'ERA_LAND': output_dir_era_land}\n",
    "    \n",
    "    year_month_idx = pd.MultiIndex.from_arrays([data['time.year'].values, data['time.month'].values])\n",
    "    data.coords['year_month'] = ('time', year_month_idx)\n",
    "\n",
    "    days_with_data_monthly_values = data[par].fillna(-9999).where(data[par].fillna(-9999)>-9999).groupby('year_month').count(dim='time')\n",
    "    days_with_data_monthly_values = days_with_data_monthly_values.rename('days_with_data')\n",
    "\n",
    "    days_of_months_values = data[par].fillna(9999).where(data[par].fillna(205) >-9999).groupby('year_month').count(dim='time')\n",
    "    days_of_months_values = days_of_months_values.rename('days_of_month')   \n",
    "\n",
    "    days_without_snow_values = data[par].where(data[par]<=float(threshold)).groupby('year_month').count(dim='time')\n",
    "    days_without_snow_values = days_without_snow_values.rename('days_without_snow')\n",
    "\n",
    "    number_of_days_with_snow_monthly_values = data[par].fillna(-9999).where(data[par].fillna(-9999)>float(threshold)).groupby('year_month').count(dim='time')\n",
    "    number_of_days_with_snow_monthly_values = number_of_days_with_snow_monthly_values.rename('days_with_snow')\n",
    "\n",
    "    monthly_values = data[par].where(data[par].fillna(-9999)>=float(threshold)).groupby('year_month').mean(dim='time')\n",
    "    monthly_values = monthly_values.rename(par+'_monthly_value')\n",
    "\n",
    "    ERA5_variables_monthly_values = xr.merge([monthly_values, number_of_days_with_snow_monthly_values, days_without_snow_values, days_with_data_monthly_values, days_of_months_values])\n",
    "\n",
    "    ERA5_variables_monthly_values[par+'_monthly_value_15'] = ERA5_variables_monthly_values[par+'_monthly_value'].where(ERA5_variables_monthly_values['days_with_data']>=15)\n",
    "    ERA5_variables_monthly_values['days_with_snow_15'] = ERA5_variables_monthly_values['days_with_snow'].where(ERA5_variables_monthly_values['days_with_data']>=15)\n",
    "    ERA5_variables_monthly_values['days_without_snow_15'] = ERA5_variables_monthly_values['days_without_snow'].where(ERA5_variables_monthly_values['days_with_data']>=15)\n",
    "    ERA5_variables_monthly_values['ext_days_with_snow'] = ERA5_variables_monthly_values['days_with_snow'] + ERA5_variables_monthly_values['days_with_snow'] / ERA5_variables_monthly_values['days_with_data'] * (ERA5_variables_monthly_values['days_of_month'] - ERA5_variables_monthly_values['days_with_data'])\n",
    "    ERA5_variables_monthly_values['ext_days_with_snow_15'] = ERA5_variables_monthly_values['days_with_snow_15'] + ERA5_variables_monthly_values['days_with_snow_15'] / ERA5_variables_monthly_values['days_with_data'] * (ERA5_variables_monthly_values['days_of_month'] - ERA5_variables_monthly_values['days_with_data'])\n",
    "\n",
    "    time = []\n",
    "    for item in ERA5_variables_monthly_values.year_month.values:\n",
    "        if item[1]<10:\n",
    "            time.append(str(item[0])+'-0'+str(item[1])+'-01')\n",
    "        else:\n",
    "            time.append(str(item[0])+'-'+str(item[1])+'-01')\n",
    "\n",
    "    ERA5_variables_monthly_values = ERA5_variables_monthly_values.assign_coords(year_month=pd.DatetimeIndex(time))\n",
    "    ERA5_variables_monthly_values = ERA5_variables_monthly_values.rename({'year_month':'time'})\n",
    "    ERA5_variables_monthly_values.to_netcdf(output_paths[prod] +'/'+par+'_ERA5_variables_monthly_values_threshold_'+threshold+'.nc')\n",
    "    \n",
    "    print('Done for threshold: ' + threshold)"
   ]
  }
 ],
 "metadata": {
  "kernelspec": {
   "display_name": "Python 3 (ipykernel)",
   "language": "python",
   "name": "python3"
  },
  "language_info": {
   "codemirror_mode": {
    "name": "ipython",
    "version": 3
   },
   "file_extension": ".py",
   "mimetype": "text/x-python",
   "name": "python",
   "nbconvert_exporter": "python",
   "pygments_lexer": "ipython3",
   "version": "3.11.3"
  }
 },
 "nbformat": 4,
 "nbformat_minor": 5
}

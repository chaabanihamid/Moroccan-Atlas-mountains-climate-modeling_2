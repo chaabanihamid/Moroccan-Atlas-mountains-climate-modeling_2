{
 "cells": [
  {
   "cell_type": "markdown",
   "id": "e9291244",
   "metadata": {},
   "source": [
    "<h1 style=\"font-size:2.0rem; color:green;\"> Trend comparison ESA CCI VS in-situ  </h1>  "
   ]
  },
  {
   "cell_type": "markdown",
   "id": "e2593b4f",
   "metadata": {},
   "source": [
    "<div class=\"alert alert-block alert-success\"; background-color:red> In this notebook, we will compare trends in the number of days with snow over land for each month using the original and gap-filled ESA CCI scfg data and in-situ observations of snow depth measured at the Ifrane station. The trends will be calculated over the period of intersection of ESA CCI data with in-situ observations 2005-2018. The purpose of this comparison is to show which product better approximates the trends, original ESA CCI or gap-filled? </div> "
   ]
  },
  {
   "cell_type": "markdown",
   "id": "914c0e99",
   "metadata": {},
   "source": [
    "<h1 style=\"font-size:1.5rem; color:green;\"> Load required libraries </h1> "
   ]
  },
  {
   "cell_type": "code",
   "execution_count": 1,
   "id": "5d8cb8c6",
   "metadata": {},
   "outputs": [],
   "source": [
    "# autoreload reloads modules automatically before entering the execution of code typed at the IPython prompt\n",
    "%load_ext autoreload\n",
    "%autoreload 2\n",
    "\n",
    "import numpy as np\n",
    "import pandas as pd\n",
    "import netCDF4 as nc\n",
    "from netCDF4 import Dataset  \n",
    "import matplotlib.pyplot as plt\n",
    "import xarray as xr         \n",
    "import pymannkendall as mk\n",
    "import seaborn as sns"
   ]
  },
  {
   "cell_type": "code",
   "execution_count": 2,
   "id": "79154396",
   "metadata": {},
   "outputs": [
    {
     "name": "stderr",
     "output_type": "stream",
     "text": [
      "C:\\Users\\Hamid\\anaconda3\\lib\\site-packages\\distributed\\node.py:180: UserWarning: Port 8787 is already in use.\n",
      "Perhaps you already have a cluster running?\n",
      "Hosting the HTTP server on port 50866 instead\n",
      "  warnings.warn(\n"
     ]
    },
    {
     "data": {
      "text/html": [
       "<div>\n",
       "    <div style=\"width: 24px; height: 24px; background-color: #e1e1e1; border: 3px solid #9D9D9D; border-radius: 5px; position: absolute;\"> </div>\n",
       "    <div style=\"margin-left: 48px;\">\n",
       "        <h3 style=\"margin-bottom: 0px;\">Client</h3>\n",
       "        <p style=\"color: #9D9D9D; margin-bottom: 0px;\">Client-a2e55720-891c-11ed-8f04-a059501c3693</p>\n",
       "        <table style=\"width: 100%; text-align: left;\">\n",
       "\n",
       "        <tr>\n",
       "        \n",
       "            <td style=\"text-align: left;\"><strong>Connection method:</strong> Cluster object</td>\n",
       "            <td style=\"text-align: left;\"><strong>Cluster type:</strong> distributed.LocalCluster</td>\n",
       "        \n",
       "        </tr>\n",
       "\n",
       "        \n",
       "            <tr>\n",
       "                <td style=\"text-align: left;\">\n",
       "                    <strong>Dashboard: </strong> <a href=\"http://127.0.0.1:50866/status\" target=\"_blank\">http://127.0.0.1:50866/status</a>\n",
       "                </td>\n",
       "                <td style=\"text-align: left;\"></td>\n",
       "            </tr>\n",
       "        \n",
       "\n",
       "        </table>\n",
       "\n",
       "        \n",
       "            <details>\n",
       "            <summary style=\"margin-bottom: 20px;\"><h3 style=\"display: inline;\">Cluster Info</h3></summary>\n",
       "            <div class=\"jp-RenderedHTMLCommon jp-RenderedHTML jp-mod-trusted jp-OutputArea-output\">\n",
       "    <div style=\"width: 24px; height: 24px; background-color: #e1e1e1; border: 3px solid #9D9D9D; border-radius: 5px; position: absolute;\">\n",
       "    </div>\n",
       "    <div style=\"margin-left: 48px;\">\n",
       "        <h3 style=\"margin-bottom: 0px; margin-top: 0px;\">LocalCluster</h3>\n",
       "        <p style=\"color: #9D9D9D; margin-bottom: 0px;\">cf784ebd</p>\n",
       "        <table style=\"width: 100%; text-align: left;\">\n",
       "            <tr>\n",
       "                <td style=\"text-align: left;\">\n",
       "                    <strong>Dashboard:</strong> <a href=\"http://127.0.0.1:50866/status\" target=\"_blank\">http://127.0.0.1:50866/status</a>\n",
       "                </td>\n",
       "                <td style=\"text-align: left;\">\n",
       "                    <strong>Workers:</strong> 2\n",
       "                </td>\n",
       "            </tr>\n",
       "            <tr>\n",
       "                <td style=\"text-align: left;\">\n",
       "                    <strong>Total threads:</strong> 4\n",
       "                </td>\n",
       "                <td style=\"text-align: left;\">\n",
       "                    <strong>Total memory:</strong> 7.45 GiB\n",
       "                </td>\n",
       "            </tr>\n",
       "            \n",
       "            <tr>\n",
       "    <td style=\"text-align: left;\"><strong>Status:</strong> running</td>\n",
       "    <td style=\"text-align: left;\"><strong>Using processes:</strong> True</td>\n",
       "</tr>\n",
       "\n",
       "            \n",
       "        </table>\n",
       "\n",
       "        <details>\n",
       "            <summary style=\"margin-bottom: 20px;\">\n",
       "                <h3 style=\"display: inline;\">Scheduler Info</h3>\n",
       "            </summary>\n",
       "\n",
       "            <div style=\"\">\n",
       "    <div>\n",
       "        <div style=\"width: 24px; height: 24px; background-color: #FFF7E5; border: 3px solid #FF6132; border-radius: 5px; position: absolute;\"> </div>\n",
       "        <div style=\"margin-left: 48px;\">\n",
       "            <h3 style=\"margin-bottom: 0px;\">Scheduler</h3>\n",
       "            <p style=\"color: #9D9D9D; margin-bottom: 0px;\">Scheduler-260f30a1-9fe3-4a6a-b5ca-fa1b10f34b59</p>\n",
       "            <table style=\"width: 100%; text-align: left;\">\n",
       "                <tr>\n",
       "                    <td style=\"text-align: left;\">\n",
       "                        <strong>Comm:</strong> tcp://127.0.0.1:50867\n",
       "                    </td>\n",
       "                    <td style=\"text-align: left;\">\n",
       "                        <strong>Workers:</strong> 2\n",
       "                    </td>\n",
       "                </tr>\n",
       "                <tr>\n",
       "                    <td style=\"text-align: left;\">\n",
       "                        <strong>Dashboard:</strong> <a href=\"http://127.0.0.1:50866/status\" target=\"_blank\">http://127.0.0.1:50866/status</a>\n",
       "                    </td>\n",
       "                    <td style=\"text-align: left;\">\n",
       "                        <strong>Total threads:</strong> 4\n",
       "                    </td>\n",
       "                </tr>\n",
       "                <tr>\n",
       "                    <td style=\"text-align: left;\">\n",
       "                        <strong>Started:</strong> Just now\n",
       "                    </td>\n",
       "                    <td style=\"text-align: left;\">\n",
       "                        <strong>Total memory:</strong> 7.45 GiB\n",
       "                    </td>\n",
       "                </tr>\n",
       "            </table>\n",
       "        </div>\n",
       "    </div>\n",
       "\n",
       "    <details style=\"margin-left: 48px;\">\n",
       "        <summary style=\"margin-bottom: 20px;\">\n",
       "            <h3 style=\"display: inline;\">Workers</h3>\n",
       "        </summary>\n",
       "\n",
       "        \n",
       "        <div style=\"margin-bottom: 20px;\">\n",
       "            <div style=\"width: 24px; height: 24px; background-color: #DBF5FF; border: 3px solid #4CC9FF; border-radius: 5px; position: absolute;\"> </div>\n",
       "            <div style=\"margin-left: 48px;\">\n",
       "            <details>\n",
       "                <summary>\n",
       "                    <h4 style=\"margin-bottom: 0px; display: inline;\">Worker: 0</h4>\n",
       "                </summary>\n",
       "                <table style=\"width: 100%; text-align: left;\">\n",
       "                    <tr>\n",
       "                        <td style=\"text-align: left;\">\n",
       "                            <strong>Comm: </strong> tcp://127.0.0.1:50885\n",
       "                        </td>\n",
       "                        <td style=\"text-align: left;\">\n",
       "                            <strong>Total threads: </strong> 2\n",
       "                        </td>\n",
       "                    </tr>\n",
       "                    <tr>\n",
       "                        <td style=\"text-align: left;\">\n",
       "                            <strong>Dashboard: </strong> <a href=\"http://127.0.0.1:50886/status\" target=\"_blank\">http://127.0.0.1:50886/status</a>\n",
       "                        </td>\n",
       "                        <td style=\"text-align: left;\">\n",
       "                            <strong>Memory: </strong> 3.73 GiB\n",
       "                        </td>\n",
       "                    </tr>\n",
       "                    <tr>\n",
       "                        <td style=\"text-align: left;\">\n",
       "                            <strong>Nanny: </strong> tcp://127.0.0.1:50871\n",
       "                        </td>\n",
       "                        <td style=\"text-align: left;\"></td>\n",
       "                    </tr>\n",
       "                    <tr>\n",
       "                        <td colspan=\"2\" style=\"text-align: left;\">\n",
       "                            <strong>Local directory: </strong> C:\\Users\\Hamid\\Desktop\\scripts\\1D analysis\\dask-worker-space\\worker-c5pe1be2\n",
       "                        </td>\n",
       "                    </tr>\n",
       "\n",
       "                    \n",
       "\n",
       "                    \n",
       "\n",
       "                </table>\n",
       "            </details>\n",
       "            </div>\n",
       "        </div>\n",
       "        \n",
       "        <div style=\"margin-bottom: 20px;\">\n",
       "            <div style=\"width: 24px; height: 24px; background-color: #DBF5FF; border: 3px solid #4CC9FF; border-radius: 5px; position: absolute;\"> </div>\n",
       "            <div style=\"margin-left: 48px;\">\n",
       "            <details>\n",
       "                <summary>\n",
       "                    <h4 style=\"margin-bottom: 0px; display: inline;\">Worker: 1</h4>\n",
       "                </summary>\n",
       "                <table style=\"width: 100%; text-align: left;\">\n",
       "                    <tr>\n",
       "                        <td style=\"text-align: left;\">\n",
       "                            <strong>Comm: </strong> tcp://127.0.0.1:50882\n",
       "                        </td>\n",
       "                        <td style=\"text-align: left;\">\n",
       "                            <strong>Total threads: </strong> 2\n",
       "                        </td>\n",
       "                    </tr>\n",
       "                    <tr>\n",
       "                        <td style=\"text-align: left;\">\n",
       "                            <strong>Dashboard: </strong> <a href=\"http://127.0.0.1:50883/status\" target=\"_blank\">http://127.0.0.1:50883/status</a>\n",
       "                        </td>\n",
       "                        <td style=\"text-align: left;\">\n",
       "                            <strong>Memory: </strong> 3.73 GiB\n",
       "                        </td>\n",
       "                    </tr>\n",
       "                    <tr>\n",
       "                        <td style=\"text-align: left;\">\n",
       "                            <strong>Nanny: </strong> tcp://127.0.0.1:50870\n",
       "                        </td>\n",
       "                        <td style=\"text-align: left;\"></td>\n",
       "                    </tr>\n",
       "                    <tr>\n",
       "                        <td colspan=\"2\" style=\"text-align: left;\">\n",
       "                            <strong>Local directory: </strong> C:\\Users\\Hamid\\Desktop\\scripts\\1D analysis\\dask-worker-space\\worker-6t3pzccr\n",
       "                        </td>\n",
       "                    </tr>\n",
       "\n",
       "                    \n",
       "\n",
       "                    \n",
       "\n",
       "                </table>\n",
       "            </details>\n",
       "            </div>\n",
       "        </div>\n",
       "        \n",
       "\n",
       "    </details>\n",
       "</div>\n",
       "\n",
       "        </details>\n",
       "    </div>\n",
       "</div>\n",
       "            </details>\n",
       "        \n",
       "\n",
       "    </div>\n",
       "</div>"
      ],
      "text/plain": [
       "<Client: 'tcp://127.0.0.1:50867' processes=2 threads=4, memory=7.45 GiB>"
      ]
     },
     "execution_count": 2,
     "metadata": {},
     "output_type": "execute_result"
    }
   ],
   "source": [
    "# For parallelisation\n",
    "from dask.distributed import Client\n",
    "client = Client(n_workers=2, threads_per_worker=2, memory_limit='4GB')\n",
    "client"
   ]
  },
  {
   "cell_type": "markdown",
   "id": "e23ad5b0",
   "metadata": {},
   "source": [
    "<h1 style=\"font-size:1.5rem; color:green;\"> Importing and preparing in-situ data</h1>"
   ]
  },
  {
   "cell_type": "code",
   "execution_count": 3,
   "id": "f5546e4d",
   "metadata": {},
   "outputs": [],
   "source": [
    "path0 = r'C:\\Data\\Snow\\SD\\In-situ\\modified_data\\V1'             \n",
    "IFR = pd.read_csv(path0 + r'\\IFR_sd_max.csv')                                "
   ]
  },
  {
   "cell_type": "code",
   "execution_count": 4,
   "id": "b961255d",
   "metadata": {},
   "outputs": [],
   "source": [
    "IFR = IFR.rename(columns={'date':'date','sd_max':'sd'})"
   ]
  },
  {
   "cell_type": "markdown",
   "id": "4d4d711e",
   "metadata": {},
   "source": [
    "<div class=\"alert alert-block alert-success\"; background-color:red> We convert the date into a format recognized by the Pandas module </div> "
   ]
  },
  {
   "cell_type": "code",
   "execution_count": 5,
   "id": "fe67bde4",
   "metadata": {},
   "outputs": [],
   "source": [
    "IFR['date'] = pd.to_datetime(IFR['date'], yearfirst=True, dayfirst=True, errors='coerce')"
   ]
  },
  {
   "cell_type": "code",
   "execution_count": 6,
   "id": "b416470c",
   "metadata": {},
   "outputs": [],
   "source": [
    "for l in range(len(IFR)):  \n",
    "    if str(IFR['date'][l])=='NaT':\n",
    "        IFR = IFR.drop(l, axis=0)  "
   ]
  },
  {
   "cell_type": "markdown",
   "id": "9baca9cd",
   "metadata": {},
   "source": [
    "<div class=\"alert alert-block alert-success\"; background-color:red> Sometime data are string format, we convert it into numeric format  </div> "
   ]
  },
  {
   "cell_type": "code",
   "execution_count": 7,
   "id": "12e1e926",
   "metadata": {},
   "outputs": [],
   "source": [
    "IFR['sd'] = pd.to_numeric(IFR['sd'])"
   ]
  },
  {
   "cell_type": "markdown",
   "id": "250e12da",
   "metadata": {},
   "source": [
    "<div class=\"alert alert-block alert-success\"; background-color:red> We out data column as index </div> "
   ]
  },
  {
   "cell_type": "code",
   "execution_count": 8,
   "id": "7f7a1d4d",
   "metadata": {},
   "outputs": [],
   "source": [
    "IFR = IFR.set_index('date')"
   ]
  },
  {
   "cell_type": "markdown",
   "id": "c559db9b",
   "metadata": {},
   "source": [
    "<div class=\"alert alert-block alert-success\"; background-color:red> We select the periods of intersection with the other data types  </div> "
   ]
  },
  {
   "cell_type": "code",
   "execution_count": 9,
   "id": "ea185260",
   "metadata": {},
   "outputs": [],
   "source": [
    "IFR = IFR['2005-01-01':'2014-12-31']"
   ]
  },
  {
   "cell_type": "code",
   "execution_count": 10,
   "id": "8e66a509",
   "metadata": {},
   "outputs": [],
   "source": [
    "IFR = IFR.fillna(-9999)"
   ]
  },
  {
   "cell_type": "markdown",
   "id": "33057ad3",
   "metadata": {},
   "source": [
    "<h1 style=\"font-size:1.5rem; color:green;\"> Importing and preparing ESA CCI \n",
    "scfg gap-filled and not gap-filled data at the pixels containing the above-mentionned stations </h1>"
   ]
  },
  {
   "cell_type": "code",
   "execution_count": 11,
   "id": "56fa03d5",
   "metadata": {},
   "outputs": [],
   "source": [
    "path1 = r'C:\\Data\\Snow\\SCFG\\Satellite\\modified_data\\V0\\extracted_points'   \n",
    "\n",
    "IFR_scfg = pd.read_csv( path1 + r'\\scfg_orig\\scfg_orig_IFR.csv', sep=\",\") \n",
    "IFR_scfg_interp = pd.read_csv( path1 + r'\\scfg_gf\\scfg_gf_IFR.csv', sep=\",\")\n",
    "\n",
    "# =======================================================================================================\n",
    "\n",
    "path2 = r'C:\\Data\\Snow\\SCFG\\Satellite\\modified_data\\V0\\extracted_points\\cov' \n",
    "\n",
    "IFR_cov = pd.read_csv(path2+ '/cov_IFR.csv', sep=\",\")"
   ]
  },
  {
   "cell_type": "code",
   "execution_count": 12,
   "id": "feb70802",
   "metadata": {},
   "outputs": [],
   "source": [
    "IFR_scfg['date'] = pd.to_datetime(IFR_scfg['date'], dayfirst=True, yearfirst=True)\n",
    "IFR_scfg_interp['date'] = pd.to_datetime(IFR_scfg_interp['date'],  dayfirst=True, yearfirst=True)"
   ]
  },
  {
   "cell_type": "markdown",
   "id": "68a1f9b2",
   "metadata": {},
   "source": [
    "<div class=\"alert alert-block alert-success\"; background-color:red> Calculation of the monthly average number of days per month covered by the data  </div> "
   ]
  },
  {
   "cell_type": "code",
   "execution_count": 28,
   "id": "01e57af1",
   "metadata": {},
   "outputs": [],
   "source": [
    "IFR_cov['date'] = pd.to_datetime(IFR_cov['date'], yearfirst=True)"
   ]
  },
  {
   "cell_type": "code",
   "execution_count": 14,
   "id": "fc06463a",
   "metadata": {},
   "outputs": [],
   "source": [
    "IFR_scfg.set_index('date', inplace=True)\n",
    "IFR_scfg_interp.set_index('date', inplace=True)"
   ]
  },
  {
   "cell_type": "code",
   "execution_count": 15,
   "id": "9564e283",
   "metadata": {},
   "outputs": [],
   "source": [
    "IFR_cov.set_index('date', inplace=True)"
   ]
  },
  {
   "cell_type": "code",
   "execution_count": 16,
   "id": "cc661dd0",
   "metadata": {},
   "outputs": [],
   "source": [
    "IFR_scfg = IFR_scfg['2005-01-01':'2014-12-31']"
   ]
  },
  {
   "cell_type": "code",
   "execution_count": 17,
   "id": "77bee13f",
   "metadata": {},
   "outputs": [],
   "source": [
    "IFR_scfg_interp = IFR_scfg_interp['2005-01-01':'2014-12-31']"
   ]
  },
  {
   "cell_type": "code",
   "execution_count": 18,
   "id": "643ed793",
   "metadata": {},
   "outputs": [],
   "source": [
    "IFR_cov = IFR_cov['2005-01-01':'2014-12-31']"
   ]
  },
  {
   "cell_type": "code",
   "execution_count": 19,
   "id": "769adac5",
   "metadata": {},
   "outputs": [],
   "source": [
    "IFR_scfg.loc[IFR_scfg['scfg'] > 100, 'scfg'] = -9999"
   ]
  },
  {
   "cell_type": "code",
   "execution_count": 20,
   "id": "c09c5c11",
   "metadata": {},
   "outputs": [],
   "source": [
    "IFR_scfg_interp = IFR_scfg_interp.fillna(-9999)"
   ]
  },
  {
   "cell_type": "markdown",
   "id": "16863c68",
   "metadata": {},
   "source": [
    "<div class=\"alert alert-block alert-success\"; background-color:red> We run the following two cells, only if we want to plot the time series  </div> "
   ]
  },
  {
   "cell_type": "code",
   "execution_count": 21,
   "id": "7eaa6878",
   "metadata": {},
   "outputs": [],
   "source": [
    "IFR_scfg = IFR_scfg.replace(-9999, np.nan)"
   ]
  },
  {
   "cell_type": "markdown",
   "id": "746b4baf",
   "metadata": {},
   "source": [
    "<div class=\"alert alert-block alert-success\"; background-color:red>  An auxiliary function for formatting of the figures  </div> "
   ]
  },
  {
   "cell_type": "code",
   "execution_count": 22,
   "id": "b7754053",
   "metadata": {},
   "outputs": [],
   "source": [
    "def set_size(w,h, ax=None):\n",
    "    \"\"\" w, h: width, height in inches \"\"\"\n",
    "    if not ax: ax=plt.gca()\n",
    "    l = ax.figure.subplotpars.left\n",
    "    r = ax.figure.subplotpars.right\n",
    "    t = ax.figure.subplotpars.top\n",
    "    b = ax.figure.subplotpars.bottom\n",
    "    figw = float(w)/(r-l)\n",
    "    figh = float(h)/(t-b)\n",
    "    ax.figure.set_size_inches(figw, figh)"
   ]
  },
  {
   "cell_type": "code",
   "execution_count": 23,
   "id": "e19aeb68",
   "metadata": {},
   "outputs": [],
   "source": [
    "Snow_esa = IFR_scfg['scfg'].where(IFR_scfg['scfg'] > 0).groupby(by=[IFR_scfg.index.month,IFR_scfg.index.year]).count() \n",
    "Sum_esa = IFR_scfg['scfg'].where(IFR_scfg['scfg'] >= 0).groupby(by=[IFR_scfg.index.month,IFR_scfg.index.year]).count() \n",
    "Nan_esa = IFR_scfg['scfg'].where(IFR_scfg['scfg'] < 0).groupby(by=[IFR_scfg.index.month,IFR_scfg.index.year]).count()\n",
    "\n",
    "Snow_esa_gf = IFR_scfg_interp['scfg_interp'].where(IFR_scfg_interp['scfg_interp'] > 0).groupby(by=[IFR_scfg_interp.index.month,IFR_scfg_interp.index.year]).count() \n",
    "Sum_esa_gf = IFR_scfg_interp['scfg_interp'].where(IFR_scfg_interp['scfg_interp'] >= 0).groupby(by=[IFR_scfg_interp.index.month,IFR_scfg_interp.index.year]).count() \n",
    "Nan_esa_gf = IFR_scfg_interp['scfg_interp'].where(IFR_scfg_interp['scfg_interp'] < 0).groupby(by=[IFR_scfg_interp.index.month,IFR_scfg_interp.index.year]).count()\n",
    "\n",
    "Snow = IFR['sd'].where(IFR['sd'] > 0).groupby(by=[IFR.index.month,IFR.index.year]).count() \n",
    "Sum = IFR['sd'].where(IFR['sd'] >= 0).groupby(by=[IFR.index.month,IFR.index.year]).count() \n",
    "Nan = IFR['sd'].where(IFR['sd'] < 0).groupby(by=[IFR.index.month,IFR.index.year]).count()\n",
    "\n",
    "\n",
    "years = [y for y in range(2005,2019)]\n",
    "for mon in range(1,13):\n",
    "    for year in years:\n",
    "        try: \n",
    "            if Nan_esa[mon][year]>15:\n",
    "                Nan_esa[mon][year] = -9999\n",
    "                Snow_esa[mon][year] = -9999\n",
    "                Nan[mon][year] = -9999\n",
    "                \n",
    "        except KeyError:  \n",
    "            continue            \n",
    "\n",
    "             \n",
    "Nan_esa = Nan_esa.replace(-9999, np.nan)\n",
    "Snow_esa = Snow_esa.replace(-9999, np.nan)\n",
    "Nan = Nan.replace(-9999, np.nan)\n",
    "  \n",
    "IFR_scfg_Sdays =   Snow_esa + Snow_esa*Nan_esa/Sum_esa  \n",
    "IFR_scfg_interp_Sdays =   Snow_esa_gf + Snow_esa_gf*Nan_esa_gf/Sum_esa_gf \n",
    "IFR_Sdays =   Snow + Snow*Nan/Sum   "
   ]
  },
  {
   "cell_type": "code",
   "execution_count": 24,
   "id": "3c1d1937",
   "metadata": {},
   "outputs": [],
   "source": [
    "IFR = pd.DataFrame(columns=[\"month\",\"slope_orig\",\"p_orig\",\"slope_gf\",\"p_gf\",\"slope_situ\",\"p_situ\"])"
   ]
  },
  {
   "cell_type": "code",
   "execution_count": 25,
   "id": "e30dac78",
   "metadata": {},
   "outputs": [
    {
     "name": "stdout",
     "output_type": "stream",
     "text": [
      "    month  slope_orig    p_orig  slope_gf      p_gf  slope_situ    p_situ\n",
      "0       1   -0.666667  0.035251    -0.875  0.367232   -0.666667  0.104588\n",
      "1       2    0.000000  0.924941     0.000  0.852892   -0.500000  0.653422\n",
      "2       3    0.000000  0.120300     0.000  0.195460    0.000000  0.574708\n",
      "3       4    0.000000  1.000000     0.000  1.000000    0.250000  0.349675\n",
      "4       5    0.000000  1.000000     0.000  1.000000    0.000000  0.360765\n",
      "5       6    0.000000  1.000000     0.000  1.000000    0.000000  1.000000\n",
      "6       7    0.000000  1.000000     0.000  1.000000    0.000000  1.000000\n",
      "7       8    0.000000  1.000000     0.000  1.000000    0.000000  1.000000\n",
      "8       9    0.000000  1.000000     0.000  1.000000    0.000000  1.000000\n",
      "9      10    0.000000  1.000000     0.000  1.000000    0.000000  0.727724\n",
      "10     11    0.000000  0.163734     0.000  0.220671    0.200000  0.521658\n",
      "11     12    0.000000  1.000000     0.000  1.000000    0.444444  0.201868\n"
     ]
    }
   ],
   "source": [
    "slope_orig = []\n",
    "slope_gf= []\n",
    "slope_situ= []\n",
    "p_orig = []\n",
    "p_gf = []\n",
    "p_situ = []\n",
    "\n",
    "for mon in range(1,13):\n",
    "    slope_orig.append(mk.original_test(IFR_scfg_Sdays[mon]).slope)\n",
    "    p_orig.append(mk.original_test(IFR_scfg_Sdays[mon]).p)\n",
    "        \n",
    "    slope_gf.append(mk.original_test(IFR_scfg_interp_Sdays[mon]).slope)\n",
    "    p_gf.append(mk.original_test(IFR_scfg_interp_Sdays[mon]).p)\n",
    "    \n",
    "    slope_situ.append(mk.original_test(IFR_Sdays[mon]).slope)\n",
    "    p_situ.append(mk.original_test(IFR_Sdays[mon]).p)\n",
    "    \n",
    "IFR['month'] = [1,2,3,4,5,6,7,8,9,10,11,12]\n",
    "IFR['slope_orig'] = slope_orig\n",
    "IFR['p_orig'] = p_orig\n",
    "\n",
    "IFR['slope_gf'] = slope_gf\n",
    "IFR['p_gf'] = p_gf\n",
    "\n",
    "IFR['slope_situ'] = slope_situ\n",
    "IFR['p_situ'] = p_situ\n",
    "\n",
    "print(IFR)"
   ]
  },
  {
   "cell_type": "code",
   "execution_count": 27,
   "id": "66aee16a",
   "metadata": {},
   "outputs": [],
   "source": [
    "IFR.to_csv('trend_ESA_VS_Situ_2005-2018_IFR.csv')"
   ]
  }
 ],
 "metadata": {
  "kernelspec": {
   "display_name": "Python 3 (ipykernel)",
   "language": "python",
   "name": "python3"
  },
  "language_info": {
   "codemirror_mode": {
    "name": "ipython",
    "version": 3
   },
   "file_extension": ".py",
   "mimetype": "text/x-python",
   "name": "python",
   "nbconvert_exporter": "python",
   "pygments_lexer": "ipython3",
   "version": "3.9.12"
  }
 },
 "nbformat": 4,
 "nbformat_minor": 5
}

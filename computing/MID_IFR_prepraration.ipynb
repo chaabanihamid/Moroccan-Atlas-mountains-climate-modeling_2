{
 "cells": [
  {
   "cell_type": "markdown",
   "id": "7c668cdf",
   "metadata": {
    "slideshow": {
     "slide_type": "-"
    }
   },
   "source": [
    "<h1 style=\"font-size:3rem; color:green;\"> Snow depth data wrangling over the two stations Ifrane and Midelt  </h1>"
   ]
  },
  {
   "cell_type": "markdown",
   "id": "6f8fc49d",
   "metadata": {},
   "source": [
    "<div class=\"alert alert-block alert-success\">\n",
    " The raw data of the snow depth in the two stations IFRANE and MIDELT are at the beginning in a complicated format, this notebook will allow to put them in a simple format and store them in statistical files.  </div>"
   ]
  },
  {
   "cell_type": "markdown",
   "id": "d26f8435",
   "metadata": {},
   "source": [
    "<h1 style=\"font-size:2rem; color:green;\"> Load required libraries </h1> "
   ]
  },
  {
   "cell_type": "code",
   "execution_count": 1,
   "id": "b0241acc",
   "metadata": {
    "scrolled": false
   },
   "outputs": [],
   "source": [
    "# To reload external files automatically (ex: utils)\n",
    "%load_ext autoreload\n",
    "%autoreload 2\n",
    "\n",
    "import numpy as np\n",
    "import pandas as pd\n",
    "import netCDF4 as nc\n",
    "from netCDF4 import Dataset\n",
    "import datetime as dt\n",
    "import calendar as cld\n",
    "import xarray as xr"
   ]
  },
  {
   "cell_type": "markdown",
   "id": "b5cf5ab0",
   "metadata": {},
   "source": [
    "<h1 style=\"font-size:2rem; color:green;\">  Check and import data  </h1>"
   ]
  },
  {
   "cell_type": "code",
   "execution_count": 22,
   "id": "ceb9ab7d",
   "metadata": {},
   "outputs": [],
   "source": [
    "path = r'C:\\Data'  # r allows to convert slaches into anti slaches\n",
    "\n",
    "IFR1 = pd.read_csv(path + r'\\scf_gf_TIZ1.csv')  \n",
    "IFR2 = pd.read_csv(path + r'\\scf_gf_TIZ2.csv')\n",
    "IFR3 = pd.read_csv(path + r'\\scf_gf_TIZ3.csv')\n",
    "IFR4 = pd.read_csv(path + r'\\scf_gf_TIZ4.csv')"
   ]
  },
  {
   "cell_type": "markdown",
   "id": "83a67f7d",
   "metadata": {},
   "source": [
    "<h1 style=\"font-size:2rem; color:green;\">  Preparation of the data of Ifrane station  </h1> "
   ]
  },
  {
   "cell_type": "code",
   "execution_count": 23,
   "id": "333df6cc",
   "metadata": {},
   "outputs": [],
   "source": [
    "# The original data\n",
    "IFR = pd.concat([IFR1, IFR2, IFR3, IFR4])"
   ]
  },
  {
   "cell_type": "code",
   "execution_count": 24,
   "id": "53a49be8",
   "metadata": {},
   "outputs": [],
   "source": [
    "IFR = IFR.drop(labels='Unnamed: 0', axis=1)"
   ]
  },
  {
   "cell_type": "code",
   "execution_count": 25,
   "id": "b94f4a8b",
   "metadata": {},
   "outputs": [],
   "source": [
    "IFR = IFR.rename(columns={'date':'date', 'scfg':'scfg_interp'})"
   ]
  },
  {
   "cell_type": "code",
   "execution_count": 26,
   "id": "7a1b0518",
   "metadata": {},
   "outputs": [
    {
     "data": {
      "text/html": [
       "<div>\n",
       "<style scoped>\n",
       "    .dataframe tbody tr th:only-of-type {\n",
       "        vertical-align: middle;\n",
       "    }\n",
       "\n",
       "    .dataframe tbody tr th {\n",
       "        vertical-align: top;\n",
       "    }\n",
       "\n",
       "    .dataframe thead th {\n",
       "        text-align: right;\n",
       "    }\n",
       "</style>\n",
       "<table border=\"1\" class=\"dataframe\">\n",
       "  <thead>\n",
       "    <tr style=\"text-align: right;\">\n",
       "      <th></th>\n",
       "      <th>date</th>\n",
       "      <th>scfg_interp</th>\n",
       "    </tr>\n",
       "  </thead>\n",
       "  <tbody>\n",
       "    <tr>\n",
       "      <th>0</th>\n",
       "      <td>1982-01-01</td>\n",
       "      <td>0.0</td>\n",
       "    </tr>\n",
       "    <tr>\n",
       "      <th>1</th>\n",
       "      <td>1982-01-02</td>\n",
       "      <td>0.0</td>\n",
       "    </tr>\n",
       "    <tr>\n",
       "      <th>2</th>\n",
       "      <td>1982-01-03</td>\n",
       "      <td>0.0</td>\n",
       "    </tr>\n",
       "    <tr>\n",
       "      <th>3</th>\n",
       "      <td>1982-01-04</td>\n",
       "      <td>0.0</td>\n",
       "    </tr>\n",
       "    <tr>\n",
       "      <th>4</th>\n",
       "      <td>1982-01-05</td>\n",
       "      <td>0.0</td>\n",
       "    </tr>\n",
       "    <tr>\n",
       "      <th>...</th>\n",
       "      <td>...</td>\n",
       "      <td>...</td>\n",
       "    </tr>\n",
       "    <tr>\n",
       "      <th>3282</th>\n",
       "      <td>2018-12-27</td>\n",
       "      <td>0.0</td>\n",
       "    </tr>\n",
       "    <tr>\n",
       "      <th>3283</th>\n",
       "      <td>2018-12-28</td>\n",
       "      <td>0.0</td>\n",
       "    </tr>\n",
       "    <tr>\n",
       "      <th>3284</th>\n",
       "      <td>2018-12-29</td>\n",
       "      <td>0.0</td>\n",
       "    </tr>\n",
       "    <tr>\n",
       "      <th>3285</th>\n",
       "      <td>2018-12-30</td>\n",
       "      <td>0.0</td>\n",
       "    </tr>\n",
       "    <tr>\n",
       "      <th>3286</th>\n",
       "      <td>2018-12-31</td>\n",
       "      <td>NaN</td>\n",
       "    </tr>\n",
       "  </tbody>\n",
       "</table>\n",
       "<p>13422 rows × 2 columns</p>\n",
       "</div>"
      ],
      "text/plain": [
       "            date  scfg_interp\n",
       "0     1982-01-01          0.0\n",
       "1     1982-01-02          0.0\n",
       "2     1982-01-03          0.0\n",
       "3     1982-01-04          0.0\n",
       "4     1982-01-05          0.0\n",
       "...          ...          ...\n",
       "3282  2018-12-27          0.0\n",
       "3283  2018-12-28          0.0\n",
       "3284  2018-12-29          0.0\n",
       "3285  2018-12-30          0.0\n",
       "3286  2018-12-31          NaN\n",
       "\n",
       "[13422 rows x 2 columns]"
      ]
     },
     "execution_count": 26,
     "metadata": {},
     "output_type": "execute_result"
    }
   ],
   "source": [
    "IFR"
   ]
  },
  {
   "cell_type": "code",
   "execution_count": 27,
   "id": "dbad0728",
   "metadata": {},
   "outputs": [],
   "source": [
    "IFR.to_csv(path + '/scfg_gf_TIZ.csv')"
   ]
  },
  {
   "cell_type": "code",
   "execution_count": null,
   "id": "0ace3806",
   "metadata": {},
   "outputs": [],
   "source": [
    "indices = []\n",
    "for l in range(len(IFR)):\n",
    "    if IFR[2005][l]=='JOUR':\n",
    "        indices.append(l)"
   ]
  },
  {
   "cell_type": "code",
   "execution_count": null,
   "id": "5c799cd2",
   "metadata": {},
   "outputs": [],
   "source": [
    "ls_mnths = [\"Unnamed: 1\",\"Unnamed: 2\",\"Unnamed: 3\",\"Unnamed: 4\",\"Unnamed: 5\",\"Unnamed: 6\",\n",
    "            \"Unnamed: 7\",\"Unnamed: 8\",\"Unnamed: 9\",\"Unnamed: 10\",\"Unnamed: 11\",\"Unnamed: 12\"]\n",
    "ls_result=[[],[]]\n",
    "\n",
    "year = 2005\n",
    "for i in indices:\n",
    "    aux = IFR[i+1:i+32]\n",
    "    for imonth, month in enumerate(ls_mnths):\n",
    "        for day in range(i+1,i+32):\n",
    "\n",
    "            ls_result[0].append('{}-{:02d}-{:02d}'.format(str(year),imonth+1, day-i))\n",
    "            ls_result[1].append(aux[month][day])\n",
    "    \n",
    "    year = year+1"
   ]
  },
  {
   "cell_type": "code",
   "execution_count": null,
   "id": "9ae09cf0",
   "metadata": {},
   "outputs": [],
   "source": [
    "IFR = pd.DataFrame(columns=['date','sd_max'])"
   ]
  },
  {
   "cell_type": "code",
   "execution_count": null,
   "id": "c9238c18",
   "metadata": {},
   "outputs": [],
   "source": [
    "IFR['date'] = ls_result[0]\n",
    "IFR['sd_max'] = ls_result[1]"
   ]
  },
  {
   "cell_type": "code",
   "execution_count": null,
   "id": "7901e18f",
   "metadata": {},
   "outputs": [],
   "source": [
    "for i in range(len(IFR)):\n",
    "    if IFR['sd_max'][i]=='traces':\n",
    "        IFR['sd_max'][i] = 1"
   ]
  },
  {
   "cell_type": "code",
   "execution_count": null,
   "id": "03d1496b",
   "metadata": {},
   "outputs": [],
   "source": [
    "# New data format\n",
    "IFR"
   ]
  },
  {
   "cell_type": "code",
   "execution_count": null,
   "id": "5e1cf183",
   "metadata": {},
   "outputs": [],
   "source": [
    "IFR.to_csv('IFR_sd_max.csv')"
   ]
  },
  {
   "cell_type": "code",
   "execution_count": null,
   "id": "62b3f4cc",
   "metadata": {},
   "outputs": [],
   "source": []
  },
  {
   "cell_type": "markdown",
   "id": "a08c9c68",
   "metadata": {},
   "source": [
    "<h1 style=\"font-size:2rem; color:green;\">  Preparation of the data of Midelt station  </h1> "
   ]
  },
  {
   "cell_type": "code",
   "execution_count": null,
   "id": "14ba0f41",
   "metadata": {},
   "outputs": [],
   "source": [
    "# The original data\n",
    "MID"
   ]
  },
  {
   "cell_type": "code",
   "execution_count": null,
   "id": "87a11cd4",
   "metadata": {},
   "outputs": [],
   "source": [
    "indices = []\n",
    "for l in range(len(MID)):\n",
    "    if MID[2005][l] == 1.0:\n",
    "        indices.append(l)"
   ]
  },
  {
   "cell_type": "code",
   "execution_count": null,
   "id": "44870113",
   "metadata": {},
   "outputs": [],
   "source": [
    "ls_mnths = ['JAN','FEV','MARS','AVR','MAI','JUIN','JUIL','AOUT','SEP','OCT','NOV','DEC']\n",
    "ls_result=[[],[]]\n",
    "\n",
    "year = 2005\n",
    "for i in indices:\n",
    "    aux = MID[i:i+31]\n",
    "    for imonth, month in enumerate(ls_mnths):\n",
    "        for day in range(i,i+31):\n",
    "\n",
    "            ls_result[0].append('{}-{:02d}-{:02d}'.format(str(year),imonth+1, day-i+1))\n",
    "            ls_result[1].append(aux[month][day])\n",
    "    \n",
    "    year = year+1"
   ]
  },
  {
   "cell_type": "code",
   "execution_count": null,
   "id": "686d8ee5",
   "metadata": {},
   "outputs": [],
   "source": [
    "MID = pd.DataFrame(columns=['date','sd_max'])"
   ]
  },
  {
   "cell_type": "code",
   "execution_count": null,
   "id": "600cebc0",
   "metadata": {},
   "outputs": [],
   "source": [
    "MID['date'] = ls_result[0]     \n",
    "MID['sd_max'] = ls_result[1]"
   ]
  },
  {
   "cell_type": "code",
   "execution_count": null,
   "id": "669c09d5",
   "metadata": {},
   "outputs": [],
   "source": [
    "# New data format \n",
    "MID"
   ]
  },
  {
   "cell_type": "code",
   "execution_count": null,
   "id": "b13a9ef9",
   "metadata": {},
   "outputs": [],
   "source": [
    "MID.to_csv('MID_sd_max.csv')"
   ]
  },
  {
   "cell_type": "code",
   "execution_count": null,
   "id": "a50634ef",
   "metadata": {},
   "outputs": [],
   "source": []
  }
 ],
 "metadata": {
  "kernelspec": {
   "display_name": "Python 3 (ipykernel)",
   "language": "python",
   "name": "python3"
  },
  "language_info": {
   "codemirror_mode": {
    "name": "ipython",
    "version": 3
   },
   "file_extension": ".py",
   "mimetype": "text/x-python",
   "name": "python",
   "nbconvert_exporter": "python",
   "pygments_lexer": "ipython3",
   "version": "3.11.3"
  }
 },
 "nbformat": 4,
 "nbformat_minor": 5
}

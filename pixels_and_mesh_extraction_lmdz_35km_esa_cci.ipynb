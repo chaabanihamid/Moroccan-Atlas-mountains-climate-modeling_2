{
 "cells": [
  {
   "cell_type": "markdown",
   "id": "7c668cdf",
   "metadata": {
    "slideshow": {
     "slide_type": "-"
    }
   },
   "source": [
    "# Extraction of the nearest pixels and gride points to the stations "
   ]
  },
  {
   "cell_type": "markdown",
   "id": "d26f8435",
   "metadata": {},
   "source": [
    "## 1. Importing python moduls "
   ]
  },
  {
   "cell_type": "code",
   "execution_count": null,
   "id": "53b900ca",
   "metadata": {},
   "outputs": [],
   "source": [
    "import numpy as np\n",
    "import pandas as pd\n",
    "import netCDF4 as nc\n",
    "from netCDF4 import Dataset\n",
    "import datetime as dt\n",
    "import calendar as cld  \n",
    "import xarray as xr\n",
    "from os import listdir "
   ]
  },
  {
   "cell_type": "code",
   "execution_count": null,
   "id": "4a15e283",
   "metadata": {},
   "outputs": [],
   "source": [
    "# For parallelisation \n",
    "from dask.distributed import Client\n",
    "client = Client(n_workers=16, threads_per_worker=2, memory_limit='32GB')\n",
    "client"
   ]
  },
  {
   "cell_type": "markdown",
   "id": "2c896763",
   "metadata": {},
   "source": [
    "## 2. Set variables and import data"
   ]
  },
  {
   "cell_type": "code",
   "execution_count": null,
   "id": "4caa7070",
   "metadata": {},
   "outputs": [],
   "source": [
    "threshold = '0'\n",
    "\n",
    "path_lmdz_35km = '/home/hchaabani/Data/Snow/SCF/LMDZ-OR-Saloua/modified_data/monthly_values/monthly_values_threshold_'+threshold\n",
    "path_esa = '/home/hchaabani/Data/Snow/SCFG/Satellite/ESA CCI/modified_data/monthly_values/monthly_values_threshold_'+threshold\n",
    "\n",
    "snc_lmdz = xr.open_dataset( path_lmdz_35km + '/scf_lmdz_variables_monthly_values_threshold_'+threshold+'.nc')\n",
    "esa_cci = xr.open_dataset( path_esa + '/ESA_CCI_GF_variables_monthly_values_threshold_'+threshold+'.nc') \n",
    "\n",
    "output_path_lmdz_35km = '/home/hchaabani/Data/Snow/SCFG/LMDZ-OR-Saloua/modified_data/extracted_mesh/extracted_mesh_threshold_'+threshold\n",
    "output_path_esa_cci = '/home/hchaabani/Data/Snow/SCFG/Satellite/ESA CCI/modified_data/extracted_pixels/extracted_pixels_threshold_'+threshold\n",
    "\n",
    "data = {'lmdz': snc_lmdz, 'esa': esa_cci}\n",
    "output_paths = {'lmdz': output_path_lmdz_35km, 'esa': output_path_esa_cci}"
   ]
  },
  {
   "cell_type": "code",
   "execution_count": null,
   "id": "a8be72a9",
   "metadata": {},
   "outputs": [],
   "source": [
    "stations_labels = ['IFR','MID','TIC','MGN','TIZ','OUK']\n",
    "stats_dic = {key:'data' for key in stations_labels} "
   ]
  },
  {
   "cell_type": "code",
   "execution_count": null,
   "id": "172977e8",
   "metadata": {},
   "outputs": [],
   "source": [
    "lats = {'IFR':33.5,'MID':32.67,'TIC':31.53,'MGN':31.50,'TIZ':31.56,'OUK':31.20}\n",
    "lons = {'IFR':-5.16,'MID':-4.74,'TIC':-6.30,'MGN':-6.45,'TIZ':-6.29,'OUK':-7.86}"
   ]
  },
  {
   "cell_type": "code",
   "execution_count": null,
   "id": "fd6aed02",
   "metadata": {},
   "outputs": [],
   "source": [
    "for key in stations_labels:    \n",
    "    stats_dic[key] = {key:'data' for key in list(data.keys())}    "
   ]
  },
  {
   "cell_type": "code",
   "execution_count": null,
   "id": "b3cf8fa3",
   "metadata": {},
   "outputs": [],
   "source": [
    "stats_dic"
   ]
  },
  {
   "cell_type": "code",
   "execution_count": null,
   "id": "7849cd6c",
   "metadata": {},
   "outputs": [],
   "source": [
    "for stat in stations_labels:                          \n",
    "    for key in list(data.keys()):     \n",
    "        stats_dic[stat][key] = data[key].sel(lat=lats[stat],lon=lons[stat], method='nearest').load()"
   ]
  },
  {
   "cell_type": "code",
   "execution_count": null,
   "id": "0ee56ce2",
   "metadata": {},
   "outputs": [],
   "source": [
    "stats_dic"
   ]
  },
  {
   "cell_type": "code",
   "execution_count": null,
   "id": "cf852817",
   "metadata": {},
   "outputs": [],
   "source": [
    "for stat in stations_labels:\n",
    "    for key in list(data.keys()):\n",
    "        stats_dic[stat][key].to_netcdf(output_paths[key] +'/monthly_values_'+stat+'_'+key+'.nc') "
   ]
  }
 ],
 "metadata": {
  "kernelspec": {
   "display_name": "Python 3 (ipykernel)",
   "language": "python",
   "name": "python3"
  },
  "language_info": {
   "codemirror_mode": {
    "name": "ipython",
    "version": 3
   },
   "file_extension": ".py",
   "mimetype": "text/x-python",
   "name": "python",
   "nbconvert_exporter": "python",
   "pygments_lexer": "ipython3",
   "version": "3.11.3"
  }
 },
 "nbformat": 4,
 "nbformat_minor": 5
}

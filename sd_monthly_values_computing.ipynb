{
 "cells": [
  {
   "cell_type": "markdown",
   "id": "eb7ba049",
   "metadata": {},
   "source": [
    "<h1 style=\"font-size:2.5rem; color:green;\"> This notebook will be used to calculate the monthly snow depth values at all stations: Ifrane, Midelt, Tichki, M'goun, Tizi Touzna and Oukaimeden.  </h1>  "
   ]
  },
  {
   "cell_type": "markdown",
   "id": "a88580b2",
   "metadata": {},
   "source": [
    "<h1 style=\"font-size:2rem; color:green;\"> Load required libraries </h1> "
   ]
  },
  {
   "cell_type": "code",
   "execution_count": 1,
   "id": "9e16ae68",
   "metadata": {},
   "outputs": [],
   "source": [
    "# To reload external files automatically (ex: utils)\n",
    "%load_ext autoreload\n",
    "%autoreload 2\n",
    "\n",
    "import numpy as np\n",
    "import pandas as pd\n",
    "import netCDF4 as nc\n",
    "from netCDF4 import Dataset  \n",
    "import datetime as dt\n",
    "import calendar as cld\n",
    "import matplotlib.pyplot as plt\n",
    "import xarray as xr"
   ]
  },
  {
   "cell_type": "markdown",
   "id": "b3be666c",
   "metadata": {},
   "source": [
    "<h1 style=\"font-size:2rem; color:green;\"> Initialization of global variables </h1>"
   ]
  },
  {
   "cell_type": "code",
   "execution_count": 2,
   "id": "fece6faf",
   "metadata": {},
   "outputs": [],
   "source": [
    "path_input =  r'C:\\Data\\Snow\\SD\\In-situ\\modified_data\\V1'\n",
    "path_output = r'C:\\Data\\Snow\\SD\\In-situ\\modified_data\\monthly_values'\n",
    "start_date = '2001-01-01'\n",
    "end_date = '2021-12-31'\n",
    "period = slice(start_date, end_date)\n",
    "stations_labels = [ 'IFR', 'MID', 'TIC', 'MGN', 'TIZ', 'OUK']\n",
    "stations_data = {key: 'data' for key in stations_labels}\n",
    "lats = {'IFR':33.5,'MID':32.67,'TIC':31.53,'MGN':31.50,'TIZ':31.56,'OUK':31.20}\n",
    "lons = {'IFR':-5.16,'MID':-4.74,'TIC':-6.30,'MGN':-6.45,'TIZ':-6.29,'OUK':-7.86}\n",
    "datasets_data = {key: 'data' for key in stations_labels}"
   ]
  },
  {
   "cell_type": "markdown",
   "id": "67c03158",
   "metadata": {},
   "source": [
    "<h1 style=\"font-size:2rem; color:green;\"> Importing and preparing data </h1>"
   ]
  },
  {
   "cell_type": "code",
   "execution_count": 3,
   "id": "0921dbc9",
   "metadata": {},
   "outputs": [],
   "source": [
    "for key in stations_labels:\n",
    "    stations_data[key] = pd.read_csv(path_input + '/sd_'+key+'.csv')"
   ]
  },
  {
   "cell_type": "code",
   "execution_count": 4,
   "id": "5a1855a3",
   "metadata": {},
   "outputs": [
    {
     "data": {
      "text/plain": [
       "{'IFR':             date  sd_max\n",
       " 0     01/01/2005     8.0\n",
       " 1     02/01/2005     4.0\n",
       " 2     03/01/2005     3.0\n",
       " 3     04/01/2005     2.0\n",
       " 4     05/01/2005     1.0\n",
       " ...          ...     ...\n",
       " 6319  27/12/2021     0.0\n",
       " 6320  28/12/2021     0.0\n",
       " 6321  29/12/2021     0.0\n",
       " 6322  30/12/2021     0.0\n",
       " 6323  31/12/2021     0.0\n",
       " \n",
       " [6324 rows x 2 columns],\n",
       " 'MID':             date  sd_max\n",
       " 0     01/01/2005     0.0\n",
       " 1     02/01/2005     0.0\n",
       " 2     03/01/2005     0.0\n",
       " 3     04/01/2005     0.0\n",
       " 4     05/01/2005     0.0\n",
       " ...          ...     ...\n",
       " 6319  27/12/2021     0.0\n",
       " 6320  28/12/2021     0.0\n",
       " 6321  29/12/2021     0.0\n",
       " 6322  30/12/2021     0.0\n",
       " 6323  31/12/2021     0.0\n",
       " \n",
       " [6324 rows x 2 columns],\n",
       " 'TIC':             date   sd\n",
       " 0     04/04/2001  0.0\n",
       " 1     05/04/2001  0.0\n",
       " 2     06/04/2001  0.0\n",
       " 3     07/04/2001  0.0\n",
       " 4     08/04/2001  0.0\n",
       " ...          ...  ...\n",
       " 3533  31/12/2010  0.0\n",
       " 3534  01/01/2011  0.0\n",
       " 3535  02/01/2011  0.0\n",
       " 3536  03/01/2011  0.0\n",
       " 3537  04/01/2011  0.0\n",
       " \n",
       " [3538 rows x 2 columns],\n",
       " 'MGN':             date    sd\n",
       " 0     08/10/2001  0.20\n",
       " 1     09/10/2001  0.21\n",
       " 2     10/10/2001  0.22\n",
       " 3     11/10/2001  0.23\n",
       " 4     12/10/2001  0.23\n",
       " ...          ...   ...\n",
       " 2356  21/03/2008  1.06\n",
       " 2357  22/03/2008  0.90\n",
       " 2358  23/03/2008  0.68\n",
       " 2359  24/03/2008  0.54\n",
       " 2360  25/03/2008  0.53\n",
       " \n",
       " [2361 rows x 2 columns],\n",
       " 'TIZ':             date   sd\n",
       " 0     18/10/2001  0.0\n",
       " 1     19/10/2001  0.0\n",
       " 2     20/10/2001  0.0\n",
       " 3     21/10/2001  0.0\n",
       " 4     22/10/2001  0.0\n",
       " ...          ...  ...\n",
       " 2046  26/05/2007  0.0\n",
       " 2047  27/05/2007  0.0\n",
       " 2048  28/05/2007  0.0\n",
       " 2049  29/05/2007  0.0\n",
       " 2050  30/05/2007  0.0\n",
       " \n",
       " [2051 rows x 2 columns],\n",
       " 'OUK':             date       sd\n",
       " 0     03/04/2004  0.02090\n",
       " 1     04/04/2004  0.05300\n",
       " 2     05/04/2004  0.03070\n",
       " 3     06/04/2004  0.01080\n",
       " 4     07/04/2004  0.02455\n",
       " ...          ...      ...\n",
       " 5928  09/10/2020  0.02000\n",
       " 5929  10/10/2020  0.02010\n",
       " 5930  11/10/2020  0.02040\n",
       " 5931  12/10/2020  0.02030\n",
       " 5932  13/10/2020  0.01870\n",
       " \n",
       " [5933 rows x 2 columns]}"
      ]
     },
     "execution_count": 4,
     "metadata": {},
     "output_type": "execute_result"
    }
   ],
   "source": [
    "stations_data"
   ]
  },
  {
   "cell_type": "code",
   "execution_count": 5,
   "id": "9382818e",
   "metadata": {},
   "outputs": [],
   "source": [
    "stations_data['IFR'] = stations_data['IFR'].rename(columns={'date':'date','sd_max':'sd'})\n",
    "stations_data['MID'] = stations_data['MID'].rename(columns={'date':'date','sd_max':'sd'})"
   ]
  },
  {
   "cell_type": "code",
   "execution_count": 6,
   "id": "0fcf3293",
   "metadata": {},
   "outputs": [],
   "source": [
    "for key in stations_labels:\n",
    "    stations_data[key]['date'] = pd.to_datetime(stations_data[key]['date'], yearfirst=True, dayfirst=True, errors='coerce')"
   ]
  },
  {
   "cell_type": "code",
   "execution_count": 7,
   "id": "46781fed",
   "metadata": {},
   "outputs": [
    {
     "data": {
      "text/plain": [
       "{'IFR':            date   sd\n",
       " 0    2005-01-01  8.0\n",
       " 1    2005-01-02  4.0\n",
       " 2    2005-01-03  3.0\n",
       " 3    2005-01-04  2.0\n",
       " 4    2005-01-05  1.0\n",
       " ...         ...  ...\n",
       " 6319 2021-12-27  0.0\n",
       " 6320 2021-12-28  0.0\n",
       " 6321 2021-12-29  0.0\n",
       " 6322 2021-12-30  0.0\n",
       " 6323 2021-12-31  0.0\n",
       " \n",
       " [6324 rows x 2 columns],\n",
       " 'MID':            date   sd\n",
       " 0    2005-01-01  0.0\n",
       " 1    2005-01-02  0.0\n",
       " 2    2005-01-03  0.0\n",
       " 3    2005-01-04  0.0\n",
       " 4    2005-01-05  0.0\n",
       " ...         ...  ...\n",
       " 6319 2021-12-27  0.0\n",
       " 6320 2021-12-28  0.0\n",
       " 6321 2021-12-29  0.0\n",
       " 6322 2021-12-30  0.0\n",
       " 6323 2021-12-31  0.0\n",
       " \n",
       " [6324 rows x 2 columns],\n",
       " 'TIC':            date   sd\n",
       " 0    2001-04-04  0.0\n",
       " 1    2001-04-05  0.0\n",
       " 2    2001-04-06  0.0\n",
       " 3    2001-04-07  0.0\n",
       " 4    2001-04-08  0.0\n",
       " ...         ...  ...\n",
       " 3533 2010-12-31  0.0\n",
       " 3534 2011-01-01  0.0\n",
       " 3535 2011-01-02  0.0\n",
       " 3536 2011-01-03  0.0\n",
       " 3537 2011-01-04  0.0\n",
       " \n",
       " [3538 rows x 2 columns],\n",
       " 'MGN':            date    sd\n",
       " 0    2001-10-08  0.20\n",
       " 1    2001-10-09  0.21\n",
       " 2    2001-10-10  0.22\n",
       " 3    2001-10-11  0.23\n",
       " 4    2001-10-12  0.23\n",
       " ...         ...   ...\n",
       " 2356 2008-03-21  1.06\n",
       " 2357 2008-03-22  0.90\n",
       " 2358 2008-03-23  0.68\n",
       " 2359 2008-03-24  0.54\n",
       " 2360 2008-03-25  0.53\n",
       " \n",
       " [2361 rows x 2 columns],\n",
       " 'TIZ':            date   sd\n",
       " 0    2001-10-18  0.0\n",
       " 1    2001-10-19  0.0\n",
       " 2    2001-10-20  0.0\n",
       " 3    2001-10-21  0.0\n",
       " 4    2001-10-22  0.0\n",
       " ...         ...  ...\n",
       " 2046 2007-05-26  0.0\n",
       " 2047 2007-05-27  0.0\n",
       " 2048 2007-05-28  0.0\n",
       " 2049 2007-05-29  0.0\n",
       " 2050 2007-05-30  0.0\n",
       " \n",
       " [2051 rows x 2 columns],\n",
       " 'OUK':            date       sd\n",
       " 0    2004-04-03  0.02090\n",
       " 1    2004-04-04  0.05300\n",
       " 2    2004-04-05  0.03070\n",
       " 3    2004-04-06  0.01080\n",
       " 4    2004-04-07  0.02455\n",
       " ...         ...      ...\n",
       " 5928 2020-10-09  0.02000\n",
       " 5929 2020-10-10  0.02010\n",
       " 5930 2020-10-11  0.02040\n",
       " 5931 2020-10-12  0.02030\n",
       " 5932 2020-10-13  0.01870\n",
       " \n",
       " [5933 rows x 2 columns]}"
      ]
     },
     "execution_count": 7,
     "metadata": {},
     "output_type": "execute_result"
    }
   ],
   "source": [
    "stations_data"
   ]
  },
  {
   "cell_type": "code",
   "execution_count": 8,
   "id": "4396fa7e",
   "metadata": {},
   "outputs": [],
   "source": [
    "for key in stations_labels:\n",
    "    for l in range(len(stations_data[key])):  \n",
    "        if str(stations_data[key]['date'][l])=='NaT':\n",
    "            stations_data[key] = stations_data[key].drop(l, axis=0)"
   ]
  },
  {
   "cell_type": "markdown",
   "id": "74d36de7",
   "metadata": {},
   "source": [
    "<div class=\"alert alert-block alert-success\"; background-color:red> Important remark: The snow depth at the two stations \n",
    "        Ifrane and Midelt is a maximum daily depth and it is given in centimeters (cm). In the other stations, it is a\n",
    "        daily average and it is given in meters (m). We will convert everything in centimeters.  </div> "
   ]
  },
  {
   "cell_type": "code",
   "execution_count": 9,
   "id": "abf3677e",
   "metadata": {},
   "outputs": [],
   "source": [
    "stations_data['TIC']['sd'] = stations_data['TIC']['sd']*100\n",
    "stations_data['MGN']['sd'] = stations_data['TIC']['sd']*100\n",
    "stations_data['TIZ']['sd'] = stations_data['TIC']['sd']*100\n",
    "stations_data['OUK']['sd'] = stations_data['OUK']['sd']*100"
   ]
  },
  {
   "cell_type": "code",
   "execution_count": 10,
   "id": "5a7a7c87",
   "metadata": {},
   "outputs": [],
   "source": [
    "for key in stations_labels:\n",
    "    stations_data[key] = stations_data[key].set_index('date')"
   ]
  },
  {
   "cell_type": "code",
   "execution_count": 11,
   "id": "d2101018",
   "metadata": {},
   "outputs": [
    {
     "data": {
      "text/plain": [
       "{'IFR':              sd\n",
       " date           \n",
       " 2005-01-01  8.0\n",
       " 2005-01-02  4.0\n",
       " 2005-01-03  3.0\n",
       " 2005-01-04  2.0\n",
       " 2005-01-05  1.0\n",
       " ...         ...\n",
       " 2021-12-27  0.0\n",
       " 2021-12-28  0.0\n",
       " 2021-12-29  0.0\n",
       " 2021-12-30  0.0\n",
       " 2021-12-31  0.0\n",
       " \n",
       " [6209 rows x 1 columns],\n",
       " 'MID':              sd\n",
       " date           \n",
       " 2005-01-01  0.0\n",
       " 2005-01-02  0.0\n",
       " 2005-01-03  0.0\n",
       " 2005-01-04  0.0\n",
       " 2005-01-05  0.0\n",
       " ...         ...\n",
       " 2021-12-27  0.0\n",
       " 2021-12-28  0.0\n",
       " 2021-12-29  0.0\n",
       " 2021-12-30  0.0\n",
       " 2021-12-31  0.0\n",
       " \n",
       " [6209 rows x 1 columns],\n",
       " 'TIC':              sd\n",
       " date           \n",
       " 2001-04-04  0.0\n",
       " 2001-04-05  0.0\n",
       " 2001-04-06  0.0\n",
       " 2001-04-07  0.0\n",
       " 2001-04-08  0.0\n",
       " ...         ...\n",
       " 2010-12-31  0.0\n",
       " 2011-01-01  0.0\n",
       " 2011-01-02  0.0\n",
       " 2011-01-03  0.0\n",
       " 2011-01-04  0.0\n",
       " \n",
       " [3538 rows x 1 columns],\n",
       " 'MGN':              sd\n",
       " date           \n",
       " 2001-10-08  0.0\n",
       " 2001-10-09  0.0\n",
       " 2001-10-10  0.0\n",
       " 2001-10-11  0.0\n",
       " 2001-10-12  0.0\n",
       " ...         ...\n",
       " 2008-03-21  0.0\n",
       " 2008-03-22  0.0\n",
       " 2008-03-23  0.0\n",
       " 2008-03-24  0.0\n",
       " 2008-03-25  0.0\n",
       " \n",
       " [2361 rows x 1 columns],\n",
       " 'TIZ':              sd\n",
       " date           \n",
       " 2001-10-18  0.0\n",
       " 2001-10-19  0.0\n",
       " 2001-10-20  0.0\n",
       " 2001-10-21  0.0\n",
       " 2001-10-22  0.0\n",
       " ...         ...\n",
       " 2007-05-26  0.0\n",
       " 2007-05-27  0.0\n",
       " 2007-05-28  0.0\n",
       " 2007-05-29  0.0\n",
       " 2007-05-30  0.0\n",
       " \n",
       " [2051 rows x 1 columns],\n",
       " 'OUK':                sd\n",
       " date             \n",
       " 2004-04-03  2.090\n",
       " 2004-04-04  5.300\n",
       " 2004-04-05  3.070\n",
       " 2004-04-06  1.080\n",
       " 2004-04-07  2.455\n",
       " ...           ...\n",
       " 2020-10-09  2.000\n",
       " 2020-10-10  2.010\n",
       " 2020-10-11  2.040\n",
       " 2020-10-12  2.030\n",
       " 2020-10-13  1.870\n",
       " \n",
       " [5933 rows x 1 columns]}"
      ]
     },
     "execution_count": 11,
     "metadata": {},
     "output_type": "execute_result"
    }
   ],
   "source": [
    "stations_data"
   ]
  },
  {
   "cell_type": "markdown",
   "id": "76898610",
   "metadata": {},
   "source": [
    "<h1 style=\"font-size:2rem; color:green;\"> Add missing data and convert to xarray dataset </h1>"
   ]
  },
  {
   "cell_type": "code",
   "execution_count": 12,
   "id": "86fb67dc",
   "metadata": {},
   "outputs": [],
   "source": [
    "datetimes = pd.date_range(start=start_date, end=end_date)"
   ]
  },
  {
   "cell_type": "code",
   "execution_count": 13,
   "id": "0ddc8bc3",
   "metadata": {},
   "outputs": [
    {
     "data": {
      "text/plain": [
       "DatetimeIndex(['2001-01-01', '2001-01-02', '2001-01-03', '2001-01-04',\n",
       "               '2001-01-05', '2001-01-06', '2001-01-07', '2001-01-08',\n",
       "               '2001-01-09', '2001-01-10',\n",
       "               ...\n",
       "               '2021-12-22', '2021-12-23', '2021-12-24', '2021-12-25',\n",
       "               '2021-12-26', '2021-12-27', '2021-12-28', '2021-12-29',\n",
       "               '2021-12-30', '2021-12-31'],\n",
       "              dtype='datetime64[ns]', length=7670, freq='D')"
      ]
     },
     "execution_count": 13,
     "metadata": {},
     "output_type": "execute_result"
    }
   ],
   "source": [
    "datetimes"
   ]
  },
  {
   "cell_type": "code",
   "execution_count": 14,
   "id": "19c34d8f",
   "metadata": {},
   "outputs": [],
   "source": [
    "for key in stations_labels:\n",
    "    stations_data[key] = stations_data[key].reindex(datetimes, fill_value=np.nan)"
   ]
  },
  {
   "cell_type": "code",
   "execution_count": 15,
   "id": "22bf14e2",
   "metadata": {},
   "outputs": [
    {
     "data": {
      "text/plain": [
       "{'IFR':              sd\n",
       " 2001-01-01  NaN\n",
       " 2001-01-02  NaN\n",
       " 2001-01-03  NaN\n",
       " 2001-01-04  NaN\n",
       " 2001-01-05  NaN\n",
       " ...         ...\n",
       " 2021-12-27  0.0\n",
       " 2021-12-28  0.0\n",
       " 2021-12-29  0.0\n",
       " 2021-12-30  0.0\n",
       " 2021-12-31  0.0\n",
       " \n",
       " [7670 rows x 1 columns],\n",
       " 'MID':              sd\n",
       " 2001-01-01  NaN\n",
       " 2001-01-02  NaN\n",
       " 2001-01-03  NaN\n",
       " 2001-01-04  NaN\n",
       " 2001-01-05  NaN\n",
       " ...         ...\n",
       " 2021-12-27  0.0\n",
       " 2021-12-28  0.0\n",
       " 2021-12-29  0.0\n",
       " 2021-12-30  0.0\n",
       " 2021-12-31  0.0\n",
       " \n",
       " [7670 rows x 1 columns],\n",
       " 'TIC':             sd\n",
       " 2001-01-01 NaN\n",
       " 2001-01-02 NaN\n",
       " 2001-01-03 NaN\n",
       " 2001-01-04 NaN\n",
       " 2001-01-05 NaN\n",
       " ...         ..\n",
       " 2021-12-27 NaN\n",
       " 2021-12-28 NaN\n",
       " 2021-12-29 NaN\n",
       " 2021-12-30 NaN\n",
       " 2021-12-31 NaN\n",
       " \n",
       " [7670 rows x 1 columns],\n",
       " 'MGN':             sd\n",
       " 2001-01-01 NaN\n",
       " 2001-01-02 NaN\n",
       " 2001-01-03 NaN\n",
       " 2001-01-04 NaN\n",
       " 2001-01-05 NaN\n",
       " ...         ..\n",
       " 2021-12-27 NaN\n",
       " 2021-12-28 NaN\n",
       " 2021-12-29 NaN\n",
       " 2021-12-30 NaN\n",
       " 2021-12-31 NaN\n",
       " \n",
       " [7670 rows x 1 columns],\n",
       " 'TIZ':             sd\n",
       " 2001-01-01 NaN\n",
       " 2001-01-02 NaN\n",
       " 2001-01-03 NaN\n",
       " 2001-01-04 NaN\n",
       " 2001-01-05 NaN\n",
       " ...         ..\n",
       " 2021-12-27 NaN\n",
       " 2021-12-28 NaN\n",
       " 2021-12-29 NaN\n",
       " 2021-12-30 NaN\n",
       " 2021-12-31 NaN\n",
       " \n",
       " [7670 rows x 1 columns],\n",
       " 'OUK':             sd\n",
       " 2001-01-01 NaN\n",
       " 2001-01-02 NaN\n",
       " 2001-01-03 NaN\n",
       " 2001-01-04 NaN\n",
       " 2001-01-05 NaN\n",
       " ...         ..\n",
       " 2021-12-27 NaN\n",
       " 2021-12-28 NaN\n",
       " 2021-12-29 NaN\n",
       " 2021-12-30 NaN\n",
       " 2021-12-31 NaN\n",
       " \n",
       " [7670 rows x 1 columns]}"
      ]
     },
     "execution_count": 15,
     "metadata": {},
     "output_type": "execute_result"
    }
   ],
   "source": [
    "stations_data"
   ]
  },
  {
   "cell_type": "code",
   "execution_count": 16,
   "id": "de192d11",
   "metadata": {},
   "outputs": [],
   "source": [
    "for key in stations_labels:\n",
    "    aux = pd.DataFrame(columns=['lon','lat'])\n",
    "    aux['lon'] = [lons[key]]*len(datetimes)\n",
    "    aux['lat'] = [lats[key]]*len(datetimes)\n",
    "    stations_data[key] = pd.concat([aux, stations_data[key].reset_index().rename(columns={'index\t':'date'})], axis=1, join='inner')"
   ]
  },
  {
   "cell_type": "code",
   "execution_count": 17,
   "id": "5161c99e",
   "metadata": {},
   "outputs": [],
   "source": [
    "for key in stations_labels:\n",
    "    stations_data[key] = stations_data[key].rename(columns={'index':'date'})"
   ]
  },
  {
   "cell_type": "code",
   "execution_count": 18,
   "id": "eaeec1b1",
   "metadata": {},
   "outputs": [],
   "source": [
    "for key in stations_labels:\n",
    "    stations_data[key] = stations_data[key].set_index(['lon','lat','date'])"
   ]
  },
  {
   "cell_type": "code",
   "execution_count": 19,
   "id": "085c8e09",
   "metadata": {},
   "outputs": [],
   "source": [
    "for key in stations_labels:\n",
    "    datasets_data[key] = stations_data[key].to_xarray()"
   ]
  },
  {
   "cell_type": "code",
   "execution_count": 20,
   "id": "e8830675",
   "metadata": {},
   "outputs": [
    {
     "data": {
      "text/plain": [
       "{'IFR': <xarray.Dataset>\n",
       " Dimensions:  (lon: 1, lat: 1, date: 7670)\n",
       " Coordinates:\n",
       "   * lon      (lon) float64 -5.16\n",
       "   * lat      (lat) float64 33.5\n",
       "   * date     (date) datetime64[ns] 2001-01-01 2001-01-02 ... 2021-12-31\n",
       " Data variables:\n",
       "     sd       (lon, lat, date) float64 nan nan nan nan nan ... 0.0 0.0 0.0 0.0,\n",
       " 'MID': <xarray.Dataset>\n",
       " Dimensions:  (lon: 1, lat: 1, date: 7670)\n",
       " Coordinates:\n",
       "   * lon      (lon) float64 -4.74\n",
       "   * lat      (lat) float64 32.67\n",
       "   * date     (date) datetime64[ns] 2001-01-01 2001-01-02 ... 2021-12-31\n",
       " Data variables:\n",
       "     sd       (lon, lat, date) float64 nan nan nan nan nan ... 0.0 0.0 0.0 0.0,\n",
       " 'TIC': <xarray.Dataset>\n",
       " Dimensions:  (lon: 1, lat: 1, date: 7670)\n",
       " Coordinates:\n",
       "   * lon      (lon) float64 -6.3\n",
       "   * lat      (lat) float64 31.53\n",
       "   * date     (date) datetime64[ns] 2001-01-01 2001-01-02 ... 2021-12-31\n",
       " Data variables:\n",
       "     sd       (lon, lat, date) float64 nan nan nan nan nan ... nan nan nan nan,\n",
       " 'MGN': <xarray.Dataset>\n",
       " Dimensions:  (lon: 1, lat: 1, date: 7670)\n",
       " Coordinates:\n",
       "   * lon      (lon) float64 -6.45\n",
       "   * lat      (lat) float64 31.5\n",
       "   * date     (date) datetime64[ns] 2001-01-01 2001-01-02 ... 2021-12-31\n",
       " Data variables:\n",
       "     sd       (lon, lat, date) float64 nan nan nan nan nan ... nan nan nan nan,\n",
       " 'TIZ': <xarray.Dataset>\n",
       " Dimensions:  (lon: 1, lat: 1, date: 7670)\n",
       " Coordinates:\n",
       "   * lon      (lon) float64 -6.29\n",
       "   * lat      (lat) float64 31.56\n",
       "   * date     (date) datetime64[ns] 2001-01-01 2001-01-02 ... 2021-12-31\n",
       " Data variables:\n",
       "     sd       (lon, lat, date) float64 nan nan nan nan nan ... nan nan nan nan,\n",
       " 'OUK': <xarray.Dataset>\n",
       " Dimensions:  (lon: 1, lat: 1, date: 7670)\n",
       " Coordinates:\n",
       "   * lon      (lon) float64 -7.86\n",
       "   * lat      (lat) float64 31.2\n",
       "   * date     (date) datetime64[ns] 2001-01-01 2001-01-02 ... 2021-12-31\n",
       " Data variables:\n",
       "     sd       (lon, lat, date) float64 nan nan nan nan nan ... nan nan nan nan}"
      ]
     },
     "execution_count": 20,
     "metadata": {},
     "output_type": "execute_result"
    }
   ],
   "source": [
    "datasets_data"
   ]
  },
  {
   "cell_type": "code",
   "execution_count": 21,
   "id": "21fd5226",
   "metadata": {},
   "outputs": [],
   "source": [
    "variables_monthly_values = {key: 'ds' for key in stations_labels}"
   ]
  },
  {
   "cell_type": "markdown",
   "id": "28cbd998",
   "metadata": {},
   "source": [
    "<h1 style=\"font-size:2rem; color:green;\"> Computing monthly values </h1>"
   ]
  },
  {
   "cell_type": "code",
   "execution_count": 28,
   "id": "6ab312ed",
   "metadata": {},
   "outputs": [],
   "source": [
    "for key in stations_labels:\n",
    "    aux =  datasets_data[key]\n",
    "    year_month_idx = pd.MultiIndex.from_arrays([aux['sd']['date.year'].values, aux['sd']['date.month'].values])\n",
    "    aux.coords['year_month'] = ('date', year_month_idx)\n",
    "    \n",
    "    days_with_data_monthly_values = aux['sd'].groupby('year_month').count(dim='date')\n",
    "    days_with_data_monthly_values = days_with_data_monthly_values.rename('days_with_data')\n",
    "\n",
    "    days_of_months_values = aux['sd'].fillna(9999).where(aux['sd'].fillna(9999) >-9999).groupby('year_month').count(dim='date')\n",
    "    days_of_months_values = days_of_months_values.rename('days_of_month')\n",
    "\n",
    "    days_without_snow_values = aux['sd'].where(aux['sd']==0).groupby('year_month').count(dim='date')\n",
    "    days_without_snow_values = days_without_snow_values.rename('days_without_snow')\n",
    "\n",
    "    number_of_days_with_snow_monthly_values = aux['sd'].fillna(-9999).where(aux['sd'].fillna(-9999)>0).groupby('year_month').count(dim='date')\n",
    "    number_of_days_with_snow_monthly_values = number_of_days_with_snow_monthly_values.rename('days_with_snow')\n",
    "\n",
    "    sd_variables_monthly_values = xr.merge([number_of_days_with_snow_monthly_values, days_without_snow_values, days_with_data_monthly_values, days_of_months_values])\n",
    "    \n",
    "    sd_variables_monthly_values['days_with_snow_15'] =  sd_variables_monthly_values['days_with_snow'].where(sd_variables_monthly_values['days_with_data']>=15) \n",
    "    sd_variables_monthly_values['days_without_snow_15'] =  sd_variables_monthly_values['days_without_snow'].where(sd_variables_monthly_values['days_with_data']>=15)\n",
    "    sd_variables_monthly_values['ext_days_with_snow'] = sd_variables_monthly_values['days_with_snow'] + sd_variables_monthly_values['days_with_snow'] / sd_variables_monthly_values['days_with_data'] * (sd_variables_monthly_values['days_of_month'] - sd_variables_monthly_values['days_with_data'])\n",
    "    sd_variables_monthly_values['ext_days_with_snow_15'] = sd_variables_monthly_values['days_with_snow_15'] + sd_variables_monthly_values['days_with_snow_15'] / sd_variables_monthly_values['days_with_data'] * (sd_variables_monthly_values['days_of_month'] - sd_variables_monthly_values['days_with_data'])\n",
    "\n",
    "    time = []\n",
    "    for item in sd_variables_monthly_values.year_month.values:\n",
    "        if item[1]<10:\n",
    "            time.append(str(item[0])+'-0'+str(item[1])+'-01')\n",
    "        else:\n",
    "            time.append(str(item[0])+'-'+str(item[1])+'-01')\n",
    "            \n",
    "    sd_variables_monthly_values = sd_variables_monthly_values.assign_coords(year_month=pd.DatetimeIndex(time))\n",
    "    sd_variables_monthly_values = sd_variables_monthly_values.rename({'year_month':'time'})\n",
    "\n",
    "    variables_monthly_values[key] = sd_variables_monthly_values\n"
   ]
  },
  {
   "cell_type": "code",
   "execution_count": 29,
   "id": "d8229947",
   "metadata": {},
   "outputs": [
    {
     "data": {
      "text/plain": [
       "{'IFR': <xarray.Dataset>\n",
       " Dimensions:                (lon: 1, lat: 1, time: 252)\n",
       " Coordinates:\n",
       "   * lon                    (lon) float64 -5.16\n",
       "   * lat                    (lat) float64 33.5\n",
       "   * time                   (time) datetime64[ns] 2001-01-01 ... 2021-12-01\n",
       " Data variables:\n",
       "     days_with_snow         (lon, lat, time) int32 0 0 0 0 0 0 0 ... 0 0 0 0 1 2\n",
       "     days_without_snow      (lon, lat, time) int32 0 0 0 0 0 0 ... 31 30 31 29 29\n",
       "     days_with_data         (lon, lat, time) int32 0 0 0 0 0 0 ... 31 30 31 30 31\n",
       "     days_of_month          (lon, lat, time) int32 31 28 31 30 31 ... 30 31 30 31\n",
       "     days_with_snow_15      (lon, lat, time) float64 nan nan nan ... 0.0 1.0 2.0\n",
       "     days_without_snow_15   (lon, lat, time) float64 nan nan nan ... 29.0 29.0\n",
       "     ext_days_with_snow     (lon, lat, time) float64 nan nan nan ... 0.0 1.0 2.0\n",
       "     ext_days_with_snow_15  (lon, lat, time) float64 nan nan nan ... 0.0 1.0 2.0,\n",
       " 'MID': <xarray.Dataset>\n",
       " Dimensions:                (lon: 1, lat: 1, time: 252)\n",
       " Coordinates:\n",
       "   * lon                    (lon) float64 -4.74\n",
       "   * lat                    (lat) float64 32.67\n",
       "   * time                   (time) datetime64[ns] 2001-01-01 ... 2021-12-01\n",
       " Data variables:\n",
       "     days_with_snow         (lon, lat, time) int32 0 0 0 0 0 0 0 ... 0 0 0 0 0 0\n",
       "     days_without_snow      (lon, lat, time) int32 0 0 0 0 0 0 ... 31 30 31 30 31\n",
       "     days_with_data         (lon, lat, time) int32 0 0 0 0 0 0 ... 31 30 31 30 31\n",
       "     days_of_month          (lon, lat, time) int32 31 28 31 30 31 ... 30 31 30 31\n",
       "     days_with_snow_15      (lon, lat, time) float64 nan nan nan ... 0.0 0.0 0.0\n",
       "     days_without_snow_15   (lon, lat, time) float64 nan nan nan ... 30.0 31.0\n",
       "     ext_days_with_snow     (lon, lat, time) float64 nan nan nan ... 0.0 0.0 0.0\n",
       "     ext_days_with_snow_15  (lon, lat, time) float64 nan nan nan ... 0.0 0.0 0.0,\n",
       " 'TIC': <xarray.Dataset>\n",
       " Dimensions:                (lon: 1, lat: 1, time: 252)\n",
       " Coordinates:\n",
       "   * lon                    (lon) float64 -6.3\n",
       "   * lat                    (lat) float64 31.53\n",
       "   * time                   (time) datetime64[ns] 2001-01-01 ... 2021-12-01\n",
       " Data variables:\n",
       "     days_with_snow         (lon, lat, time) int32 0 0 0 0 0 0 2 ... 0 0 0 0 0 0\n",
       "     days_without_snow      (lon, lat, time) int32 0 0 0 27 31 30 ... 0 0 0 0 0 0\n",
       "     days_with_data         (lon, lat, time) int32 0 0 0 27 31 30 ... 0 0 0 0 0 0\n",
       "     days_of_month          (lon, lat, time) int32 31 28 31 30 31 ... 30 31 30 31\n",
       "     days_with_snow_15      (lon, lat, time) float64 nan nan nan ... nan nan nan\n",
       "     days_without_snow_15   (lon, lat, time) float64 nan nan nan ... nan nan nan\n",
       "     ext_days_with_snow     (lon, lat, time) float64 nan nan nan ... nan nan nan\n",
       "     ext_days_with_snow_15  (lon, lat, time) float64 nan nan nan ... nan nan nan,\n",
       " 'MGN': <xarray.Dataset>\n",
       " Dimensions:                (lon: 1, lat: 1, time: 252)\n",
       " Coordinates:\n",
       "   * lon                    (lon) float64 -6.45\n",
       "   * lat                    (lat) float64 31.5\n",
       "   * time                   (time) datetime64[ns] 2001-01-01 ... 2021-12-01\n",
       " Data variables:\n",
       "     days_with_snow         (lon, lat, time) int32 0 0 0 0 0 0 0 ... 0 0 0 0 0 0\n",
       "     days_without_snow      (lon, lat, time) int32 0 0 0 0 0 0 0 ... 0 0 0 0 0 0\n",
       "     days_with_data         (lon, lat, time) int32 0 0 0 0 0 0 0 ... 0 0 0 0 0 0\n",
       "     days_of_month          (lon, lat, time) int32 31 28 31 30 31 ... 30 31 30 31\n",
       "     days_with_snow_15      (lon, lat, time) float64 nan nan nan ... nan nan nan\n",
       "     days_without_snow_15   (lon, lat, time) float64 nan nan nan ... nan nan nan\n",
       "     ext_days_with_snow     (lon, lat, time) float64 nan nan nan ... nan nan nan\n",
       "     ext_days_with_snow_15  (lon, lat, time) float64 nan nan nan ... nan nan nan,\n",
       " 'TIZ': <xarray.Dataset>\n",
       " Dimensions:                (lon: 1, lat: 1, time: 252)\n",
       " Coordinates:\n",
       "   * lon                    (lon) float64 -6.29\n",
       "   * lat                    (lat) float64 31.56\n",
       "   * time                   (time) datetime64[ns] 2001-01-01 ... 2021-12-01\n",
       " Data variables:\n",
       "     days_with_snow         (lon, lat, time) int32 0 0 0 0 0 0 0 ... 0 0 0 0 0 0\n",
       "     days_without_snow      (lon, lat, time) int32 0 0 0 0 0 0 0 ... 0 0 0 0 0 0\n",
       "     days_with_data         (lon, lat, time) int32 0 0 0 0 0 0 0 ... 0 0 0 0 0 0\n",
       "     days_of_month          (lon, lat, time) int32 31 28 31 30 31 ... 30 31 30 31\n",
       "     days_with_snow_15      (lon, lat, time) float64 nan nan nan ... nan nan nan\n",
       "     days_without_snow_15   (lon, lat, time) float64 nan nan nan ... nan nan nan\n",
       "     ext_days_with_snow     (lon, lat, time) float64 nan nan nan ... nan nan nan\n",
       "     ext_days_with_snow_15  (lon, lat, time) float64 nan nan nan ... nan nan nan,\n",
       " 'OUK': <xarray.Dataset>\n",
       " Dimensions:                (lon: 1, lat: 1, time: 252)\n",
       " Coordinates:\n",
       "   * lon                    (lon) float64 -7.86\n",
       "   * lat                    (lat) float64 31.2\n",
       "   * time                   (time) datetime64[ns] 2001-01-01 ... 2021-12-01\n",
       " Data variables:\n",
       "     days_with_snow         (lon, lat, time) int32 0 0 0 0 0 0 0 ... 0 0 0 0 0 0\n",
       "     days_without_snow      (lon, lat, time) int32 0 0 0 0 0 0 0 ... 0 0 0 0 0 0\n",
       "     days_with_data         (lon, lat, time) int32 0 0 0 0 0 0 0 ... 0 0 0 0 0 0\n",
       "     days_of_month          (lon, lat, time) int32 31 28 31 30 31 ... 30 31 30 31\n",
       "     days_with_snow_15      (lon, lat, time) float64 nan nan nan ... nan nan nan\n",
       "     days_without_snow_15   (lon, lat, time) float64 nan nan nan ... nan nan nan\n",
       "     ext_days_with_snow     (lon, lat, time) float64 nan nan nan ... nan nan nan\n",
       "     ext_days_with_snow_15  (lon, lat, time) float64 nan nan nan ... nan nan nan}"
      ]
     },
     "execution_count": 29,
     "metadata": {},
     "output_type": "execute_result"
    }
   ],
   "source": [
    "variables_monthly_values"
   ]
  },
  {
   "cell_type": "markdown",
   "id": "799caff7",
   "metadata": {},
   "source": [
    "<h1 style=\"font-size:2rem; color:green;\"> Storing data to netcdf files </h1>"
   ]
  },
  {
   "cell_type": "code",
   "execution_count": 30,
   "id": "3d71972e",
   "metadata": {},
   "outputs": [],
   "source": [
    "for key in stations_labels:  \n",
    "    variables_monthly_values[key].to_netcdf(path_output+'/'+key+'_in_situ.nc')"
   ]
  }
 ],
 "metadata": {
  "kernelspec": {
   "display_name": "Python 3 (ipykernel)",
   "language": "python",
   "name": "python3"
  },
  "language_info": {
   "codemirror_mode": {
    "name": "ipython",
    "version": 3
   },
   "file_extension": ".py",
   "mimetype": "text/x-python",
   "name": "python",
   "nbconvert_exporter": "python",
   "pygments_lexer": "ipython3",
   "version": "3.9.12"
  }
 },
 "nbformat": 4,
 "nbformat_minor": 5
}
